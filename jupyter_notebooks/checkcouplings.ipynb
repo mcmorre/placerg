{
 "cells": [
  {
   "cell_type": "code",
   "execution_count": 1,
   "metadata": {},
   "outputs": [],
   "source": [
    "import numpy as np\n",
    "import matplotlib.pyplot as plt\n",
    "from placerg.funcs import *"
   ]
  },
  {
   "cell_type": "code",
   "execution_count": 2,
   "metadata": {},
   "outputs": [],
   "source": [
    "N=1024\n",
    "nstim=3\n",
    "choice=[0,1]\n",
    "percell = 2 # on average, number of nonplace stimuli per cell\n",
    "# for example, I assign on average percell nonplace fields to every cell\n",
    "# must be natural number\n",
    "placeprob = np.array([.5,.5]) # probability that cell is coupled to place field\n",
    "# [p(not coupled), p(coupled)]     \n",
    "npprob=np.array([1-percell/(nstim),percell/(nstim)]) \n",
    "# probability that cell is coupled to percell fields\n",
    "bothprob = np.array([.5,.5]) # probability that cell is coupled \n",
    "# to both place and nonplace field\n",
    "# [p(not coupled), p(coupled)] \n",
    "    \n",
    "# now initialize distribution parameters of fields and couplings\n",
    "# here the place field couplings will be gamma distributed\n",
    "# the nonplace field couplings will be normally distributed\n",
    "\n",
    "vj = .5 # mean of couplings for nonplace fields\n",
    "                \n",
    "vjplace = 1. # mean of couplings for place fields\n",
    "\n",
    "sj = .5 # standard deviation of couplings for nonplace fields\n",
    "\n",
    "sjplace = .5  # standard deviation of couplings for place fields\n",
    "const=1./np.sqrt(percell)\n",
    "const2=1.\n",
    "J=np.zeros((N+nstim, N))"
   ]
  },
  {
   "cell_type": "code",
   "execution_count": 3,
   "metadata": {},
   "outputs": [],
   "source": [
    "J[:N, :] = gamma(vjplace, sjplace, N)*np.diagflat(\\\n",
    "        np.random.choice(choice,(N,), p=placeprob)) \n",
    "wnp = np.array(np.where(J[(np.diag_indices(J[:N,:].shape[1]))] ==0)).flatten()"
   ]
  },
  {
   "cell_type": "code",
   "execution_count": 4,
   "metadata": {},
   "outputs": [
    {
     "data": {
      "text/plain": [
       "(-1.1056073143289207,\n",
       " 1.1002670149680438,\n",
       " -1.1065546148086052,\n",
       " 1.10342588525708)"
      ]
     },
     "execution_count": 4,
     "metadata": {},
     "output_type": "execute_result"
    },
    {
     "data": {
      "image/png": "[encoded data removed]",
      "text/plain": [
       "<Figure size 432x288 with 1 Axes>"
      ]
     },
     "metadata": {},
     "output_type": "display_data"
    }
   ],
   "source": [
    "counts=np.array((np.count_nonzero(J[:N,:],\\\n",
    "                axis=0),np.count_nonzero(J[N:,:], axis=0))) \n",
    "placecell=np.array(\\\n",
    "                np.where(np.logical_and(counts[0,:] != 0.,\\\n",
    "                counts[1,:] == 0.))).flatten()\n",
    "nonplacecell=np.array(\\\n",
    "                np.where(np.logical_and(counts[0,:] == 0.,\\\n",
    "                counts[1,:] != 0.))).flatten()\n",
    "bothcell=np.array(np.where(np.logical_and(counts[0,:] \\\n",
    "                != 0., counts[1,:] != 0.))).flatten() \n",
    "nothing=N-placecell.size-nonplacecell.size-bothcell.size\n",
    "netstats=[placecell.size, nonplacecell.size, bothcell.size, nothing]\n",
    "labels = ['placecell', 'nonplacecell', 'bothcell', 'none']\n",
    "colors = ['gold', 'yellowgreen', 'lightcoral', 'lightskyblue', 'blue']\n",
    "\n",
    "# Plot\n",
    "plt.pie(netstats, labels=labels, colors=colors, autopct='%1.1f%%', shadow=True)\n",
    "\n",
    "plt.axis('equal')"
   ]
  },
  {
   "cell_type": "code",
   "execution_count": 5,
   "metadata": {},
   "outputs": [],
   "source": [
    "# recall that choice is [0,1]\n",
    "J[N:,wnp] = const*np.random.normal(vj, sj, \\\n",
    "            J[N:, wnp].shape)* np.random.choice(choice, J[N:,wnp].shape, \\\n",
    "            p=npprob)\n",
    "\n",
    "    # coupling matrix for place field\n",
    "    # Note that if a cell is coupled to a place field, it is only coupled to \n",
    "    # one place field.\n",
    "    # This is accomplished by setting the diagonal of the place fields section \n",
    "    # of the coupling matrix to 1 and \n",
    "    # everything else to 0\n",
    "    # the place field couplings are always positive and gamma distributed. \n",
    "    # having only positive couplings will ensure that the cells will spike \n",
    "    # when the place field waveform spikes\n"
   ]
  },
  {
   "cell_type": "code",
   "execution_count": 6,
   "metadata": {},
   "outputs": [],
   "source": [
    "nones=np.array(np.where(np.sum(J,axis=0)==0)).flatten()\n",
    "inds=np.random.randint(0, high=nstim, size=nones.size)\n",
    "J[N+inds,nones]+=const*np.random.normal(vj, sj, \\\n",
    "            J[N:,nones][inds,np.arange(nones.size)].shape)"
   ]
  },
  {
   "cell_type": "code",
   "execution_count": 7,
   "metadata": {},
   "outputs": [],
   "source": [
    "wnp = np.array(np.where(J[(np.diag_indices(J[:N,:].shape[1]))] ==0)).flatten()\n",
    "countcells=np.array((np.count_nonzero(J[N:,wnp],axis=0)))"
   ]
  },
  {
   "cell_type": "code",
   "execution_count": 8,
   "metadata": {},
   "outputs": [
    {
     "data": {
      "text/plain": [
       "1.9900793650793651"
      ]
     },
     "execution_count": 8,
     "metadata": {},
     "output_type": "execute_result"
    }
   ],
   "source": [
    "np.mean(countcells)"
   ]
  },
  {
   "cell_type": "code",
   "execution_count": 9,
   "metadata": {},
   "outputs": [
    {
     "data": {
      "text/plain": [
       "(-1.1056073143289207,\n",
       " 1.1002670149680438,\n",
       " -1.1065546148086052,\n",
       " 1.10342588525708)"
      ]
     },
     "execution_count": 9,
     "metadata": {},
     "output_type": "execute_result"
    },
    {
     "data": {
      "image/png": "[encoded data removed]",
      "text/plain": [
       "<Figure size 432x288 with 1 Axes>"
      ]
     },
     "metadata": {},
     "output_type": "display_data"
    }
   ],
   "source": [
    "counts=np.array((np.count_nonzero(J[:N,:],\\\n",
    "                axis=0),np.count_nonzero(J[N:,:], axis=0))) \n",
    "placecell=np.array(\\\n",
    "                np.where(np.logical_and(counts[0,:] != 0.,\\\n",
    "                counts[1,:] == 0.))).flatten()\n",
    "nonplacecell=np.array(\\\n",
    "                np.where(np.logical_and(counts[0,:] == 0.,\\\n",
    "                counts[1,:] != 0.))).flatten()\n",
    "bothcell=np.array(np.where(np.logical_and(counts[0,:] \\\n",
    "                != 0., counts[1,:] != 0.))).flatten() \n",
    "nothing=N-placecell.size-nonplacecell.size-bothcell.size\n",
    "netstats=[placecell.size, nonplacecell.size, bothcell.size, nothing]\n",
    "labels = ['placecell', 'nonplacecell', 'bothcell', 'none']\n",
    "colors = ['gold', 'yellowgreen', 'lightcoral', 'lightskyblue', 'blue']\n",
    "\n",
    "# Plot\n",
    "plt.pie(netstats, labels=labels, colors=colors, autopct='%1.1f%%', shadow=True)\n",
    "\n",
    "plt.axis('equal')"
   ]
  },
  {
   "cell_type": "code",
   "execution_count": 10,
   "metadata": {},
   "outputs": [],
   "source": [
    "J[wnp,wnp] = np.reshape(gamma(vjplace, sjplace, J[wnp,wnp].size), J[wnp,wnp].shape)* np.random.choice(choice, J[wnp,wnp].shape, \\\n",
    "            p=bothprob)"
   ]
  },
  {
   "cell_type": "code",
   "execution_count": 11,
   "metadata": {},
   "outputs": [
    {
     "data": {
      "text/plain": [
       "(-1.1056073143289207,\n",
       " 1.1002670149680438,\n",
       " -1.1017749103299537,\n",
       " 1.1031982802819063)"
      ]
     },
     "execution_count": 11,
     "metadata": {},
     "output_type": "execute_result"
    },
    {
     "data": {
      "image/png": "[encoded data removed]",
      "text/plain": [
       "<Figure size 432x288 with 1 Axes>"
      ]
     },
     "metadata": {},
     "output_type": "display_data"
    }
   ],
   "source": [
    "counts=np.array((np.count_nonzero(J[:N,:],\\\n",
    "                axis=0),np.count_nonzero(J[N:,:], axis=0))) \n",
    "placecell=np.array(\\\n",
    "                np.where(np.logical_and(counts[0,:] != 0.,\\\n",
    "                counts[1,:] == 0.))).flatten()\n",
    "nonplacecell=np.array(\\\n",
    "                np.where(np.logical_and(counts[0,:] == 0.,\\\n",
    "                counts[1,:] != 0.))).flatten()\n",
    "bothcell=np.array(np.where(np.logical_and(counts[0,:] \\\n",
    "                != 0., counts[1,:] != 0.))).flatten() \n",
    "nothing=N-placecell.size-nonplacecell.size-bothcell.size\n",
    "netstats=[placecell.size, nonplacecell.size, bothcell.size, nothing]\n",
    "labels = ['placecell', 'nonplacecell', 'bothcell', 'none']\n",
    "colors = ['gold', 'yellowgreen', 'lightcoral', 'lightskyblue', 'blue']\n",
    "\n",
    "# Plot\n",
    "plt.pie(netstats, labels=labels, colors=colors, autopct='%1.1f%%', shadow=True)\n",
    "\n",
    "plt.axis('equal')"
   ]
  },
  {
   "cell_type": "code",
   "execution_count": 12,
   "metadata": {},
   "outputs": [
    {
     "data": {
      "text/plain": [
       "<matplotlib.image.AxesImage at 0x7f4108523c88>"
      ]
     },
     "execution_count": 12,
     "metadata": {},
     "output_type": "execute_result"
    },
    {
     "data": {
      "image/png": "[encoded data removed]",
      "text/plain": [
       "<Figure size 288x288 with 1 Axes>"
      ]
     },
     "metadata": {
      "needs_background": "light"
     },
     "output_type": "display_data"
    }
   ],
   "source": [
    "plt.matshow(J[:N,:])"
   ]
  },
  {
   "cell_type": "code",
   "execution_count": 13,
   "metadata": {},
   "outputs": [
    {
     "data": {
      "text/plain": [
       "<matplotlib.colorbar.Colorbar at 0x7f410855c978>"
      ]
     },
     "execution_count": 13,
     "metadata": {},
     "output_type": "execute_result"
    },
    {
     "data": {
      "image/png": "[encoded data removed]",
      "text/plain": [
       "<Figure size 1152x144 with 2 Axes>"
      ]
     },
     "metadata": {
      "needs_background": "light"
     },
     "output_type": "display_data"
    }
   ],
   "source": [
    "plt.matshow(J[N:,:100])\n",
    "\n",
    "plt.colorbar()"
   ]
  },
  {
   "cell_type": "code",
   "execution_count": null,
   "metadata": {},
   "outputs": [],
   "source": []
  },
  {
   "cell_type": "code",
   "execution_count": null,
   "metadata": {},
   "outputs": [],
   "source": []
  }
 ],
 "metadata": {
  "kernelspec": {
   "display_name": "Python 3",
   "language": "python",
   "name": "python3"
  },
  "language_info": {
   "codemirror_mode": {
    "name": "ipython",
    "version": 3
   },
   "file_extension": ".py",
   "mimetype": "text/x-python",
   "name": "python",
   "nbconvert_exporter": "python",
   "pygments_lexer": "ipython3",
   "version": "3.7.3"
  }
 },
 "nbformat": 4,
 "nbformat_minor": 2
}
